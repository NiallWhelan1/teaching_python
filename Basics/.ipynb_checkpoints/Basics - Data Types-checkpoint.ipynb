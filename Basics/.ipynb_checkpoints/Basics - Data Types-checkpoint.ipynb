{
 "cells": [
  {
   "cell_type": "markdown",
   "metadata": {},
   "source": [
    "# Data Types"
   ]
  },
  {
   "cell_type": "code",
   "execution_count": 19,
   "metadata": {},
   "outputs": [],
   "source": [
    "int = 1\n",
    "float = 1.1\n",
    "str = 'This is a string'\n",
    "list = [1,2,3,'A']\n",
    "dict = {'key':'value', 'id': 'Value'}\n",
    "tup = (1,2,3) ## or tup = 1,2,3\n",
    "set = {'a','b','d'}\n",
    "bool = True"
   ]
  },
  {
   "cell_type": "markdown",
   "metadata": {},
   "source": [
    "### Numbers"
   ]
  },
  {
   "cell_type": "code",
   "execution_count": 24,
   "metadata": {},
   "outputs": [
    {
     "name": "stdout",
     "output_type": "stream",
     "text": [
      "1.75\n",
      "3\n",
      "8\n"
     ]
    }
   ],
   "source": [
    "# Division \n",
    "res = 7/4\n",
    "print(res)\n",
    "\n",
    "# Mod (Remainder)\n",
    "res = 7 % 4\n",
    "print(res)\n",
    "\n",
    "# Powers\n",
    "res = 2 ** 3\n",
    "print(res)"
   ]
  },
  {
   "cell_type": "markdown",
   "metadata": {},
   "source": [
    "#### Number Methods"
   ]
  },
  {
   "cell_type": "code",
   "execution_count": 233,
   "metadata": {},
   "outputs": [
    {
     "name": "stdout",
     "output_type": "stream",
     "text": [
      "4\n",
      "8\n",
      "b'\\x00\\x08'\n",
      "(7, 4)\n",
      "True\n"
     ]
    }
   ],
   "source": [
    "res = 8 ## Ints\n",
    "print(res.bit_length())\n",
    "print(res.conjugate())\n",
    "print(res.to_bytes(2, 'big'))\n",
    "\n",
    "res = 7 / 4 ## Floats (1.75)\n",
    "print(res.as_integer_ratio())\n",
    "print(2.0.is_integer())"
   ]
  },
  {
   "cell_type": "markdown",
   "metadata": {},
   "source": [
    "### Strings"
   ]
  },
  {
   "cell_type": "code",
   "execution_count": 68,
   "metadata": {},
   "outputs": [
    {
     "name": "stdout",
     "output_type": "stream",
     "text": [
      "a\n",
      "a\n",
      "bcdefghija\n",
      "abcdefghij\n",
      "defghi\n",
      "acegia\n",
      "adgj\n",
      "ajihgfedcba\n"
     ]
    }
   ],
   "source": [
    "my_str = 'abcdefghija'\n",
    "print(my_str[0]) # First Letter\n",
    "print(my_str[-1]) ## Last Letter\n",
    "\n",
    "print(my_str[1:]) # All Except Firts\n",
    "print(my_str[:-1]) # All Except Last\n",
    "\n",
    "print(my_str[3:-2])\n",
    "print(my_str[::2]) # Every 2nd letter\n",
    "print(my_str[::3]) # Every 3rd letter\n",
    "\n",
    "print(my_str[::-1]) # Reverse a string - Technically taking a Backward step"
   ]
  },
  {
   "cell_type": "markdown",
   "metadata": {},
   "source": [
    "#### String Methods"
   ]
  },
  {
   "cell_type": "code",
   "execution_count": 187,
   "metadata": {},
   "outputs": [
    {
     "name": "stdout",
     "output_type": "stream",
     "text": [
      "Abcdefghija\n",
      "ABCDEFGHIJA\n",
      "abcdefghija\n",
      "abcdefghija\n",
      "Abcdefghija\n",
      "True\n",
      "True\n",
      "b'abcdefghija'\n",
      "____abcdefghija_____\n",
      "abcdefghija_________\n",
      "_________abcdefghija\n",
      "2\n",
      "True\n",
      "1\n",
      "1\n",
      "False\n",
      "False\n",
      "True\n",
      "True\n",
      "bcdefghija\n",
      "abcdefghij\n",
      "bcdefghij\n",
      "('ab', 'c', 'defghija')\n",
      "('abcded', 'c', 'ba')\n",
      "['ab', 'defghija']\n",
      "ab - defghija\n",
      "10\n"
     ]
    }
   ],
   "source": [
    "print(my_str.capitalize())\n",
    "print(my_str.upper())\n",
    "print(my_str.casefold()) ## Move all to lowercase i.e. Remove Case\n",
    "print(my_str.lower())\n",
    "print(my_str.title())\n",
    "print(my_str.islower()) \n",
    "print('Title Case'.istitle())\n",
    "print(my_str.encode(encoding='utf-8', errors='strict'))\n",
    "\n",
    "print(my_str.center(20,'_')) ## Creates a string with specified characters and expands using the fillchar 2nd input\n",
    "print(my_str.ljust(20,'_'))\n",
    "print(my_str.rjust(20,'_'))\n",
    "\n",
    "print(my_str.count('a')) ## Counts number of ocurrances of input substring in the original string\n",
    "print(my_str.endswith('a'))\n",
    "\n",
    "print(my_str.find('b')) ## -1 if not found\n",
    "print(my_str.index('b')) ## Same as .find() but throws error if not found\n",
    "\n",
    "print('my_str'.isalnum()) ## Checks if all characters are alpha-numeric and at least 1 character\n",
    "print('ab1'.isalpha()) ## Checks if all characters are alpha and at least 1 character\n",
    "print(my_str.isascii()) \n",
    "print('12'.isdecimal()) ## Checks if all characters are numeric \n",
    "\n",
    "print(my_str.lstrip('a')) \n",
    "print(my_str.rstrip('a'))\n",
    "print(my_str.strip('a'))\n",
    "\n",
    "print(my_str.partition('c')) ## Returns tuple\n",
    "print('abcdedcba'.rpartition('c')) ## Returns tuple\n",
    "print(my_str.split('c')) ## Returns a list\n",
    "\n",
    "print(my_str.replace('c', ' - '))\n",
    "\n",
    "print(my_str.rindex('a'))"
   ]
  },
  {
   "cell_type": "code",
   "execution_count": 239,
   "metadata": {},
   "outputs": [
    {
     "name": "stdout",
     "output_type": "stream",
     "text": [
      "Sammy has 5.2 balloons.\n",
      "Sammy has 5.3 balloons and 7 balls.\n",
      "John's last name is Wick\n",
      "Sammy has 5.600000 balloons.\n",
      "Sammy has 5.6 balloons.\n",
      "Sammy has 5.623 balloons.\n",
      "12345fghij1\n",
      "Hi my name is Niall\n"
     ]
    }
   ],
   "source": [
    "## String Formating using .format() method\n",
    "print(\"Sammy has {} balloons.\".format(5.2))\n",
    "\n",
    "print(\"Sammy has {a} balloons and {b} balls.\".format(a = 5.3, b =7))\n",
    "\n",
    "\n",
    "\n",
    "## String Formating using .format_map() method\n",
    "# input stored in variable a. \n",
    "a = {'x':'John', 'y':'Wick'}  \n",
    "# Use of format_map() function \n",
    "print(\"{x}'s last name is {y}\".format_map(a)) \n",
    "\n",
    "## Symbol Mapping\n",
    "print(\"Sammy has %f balloons.\" % (5.6))\n",
    "print(\"Sammy has %g balloons.\" % (5.6))\n",
    "\n",
    "print(\"Sammy has %.3f balloons.\" % (5.62344))\n",
    "\n",
    "\n",
    "#################################################################\n",
    "## Format Symbol Conversion\n",
    "\n",
    "# %c = character\n",
    "# %s = string conversion via str() prior to formatting\n",
    "# %i = signed decimal integer\n",
    "# %d = signed decimal integer\n",
    "# %u = unsigned decimal integer\n",
    "# %o = octal integer\n",
    "# %x = hexadecimal integer (lowercase letters)\n",
    "# %X = hexadecimal integer (UPPERcase letters)\n",
    "# %e = exponential notation (with lowercase 'e')\n",
    "# %E = exponential notation (with UPPERcase 'E')\n",
    "# %f = floating point real number\n",
    "# %g = the shorter of %f and %e\n",
    "# %G = the shorter of %f and %E\n",
    "\n",
    "#################################################################\n",
    "\n",
    "## Using Translation Table \n",
    "intab = \"abcde\"\n",
    "outtab = \"12345\" \n",
    "transtab = str.maketrans(intab, outtab)\n",
    "print(my_str.translate(trantab))\n",
    "\n",
    "## Format Strings - New in Python 3.6\n",
    "name = 'Niall'\n",
    "print(f'Hi my name is {name}') ## f'{string}' indicates formatted string"
   ]
  },
  {
   "cell_type": "code",
   "execution_count": 146,
   "metadata": {},
   "outputs": [
    {
     "data": {
      "text/plain": [
       "'a - b - c'"
      ]
     },
     "execution_count": 146,
     "metadata": {},
     "output_type": "execute_result"
    }
   ],
   "source": [
    "# String Concatonation\n",
    "' - '.join(['a','b','c']) ## Join a list passed in the method with the string object"
   ]
  },
  {
   "cell_type": "markdown",
   "metadata": {},
   "source": [
    "### List Methods"
   ]
  },
  {
   "cell_type": "code",
   "execution_count": 305,
   "metadata": {},
   "outputs": [
    {
     "name": "stdout",
     "output_type": "stream",
     "text": [
      "['z', 'a', 'b', 'c', 'g', 'a', 'a']\n",
      "['z', 'a', 'b', 'c', 'g', 'a', 'a', 'f', 'g']\n",
      "['z', 'a', 'b', 'c', 'z', 'g', 'a', 'a', 'f', 'g']\n",
      "['z', 'b', 'c', 'z', 'g', 'a', 'a', 'f', 'g']\n",
      "g\n",
      "[]\n",
      "[1, 2, 3.0, 3, 2]\n",
      "2\n",
      "2\n",
      "[2, 3, 3.0, 2, 1]\n",
      "[1, 2, 2, 3, 3.0]\n"
     ]
    }
   ],
   "source": [
    "str_list = ['z','a','b','c','g','a']\n",
    "num_list = [1,2,3.0,3,2]\n",
    "mix_list = [1,'a',3.0]\n",
    "\n",
    "## Methods\n",
    "# .append - adds as one item\n",
    "str_list.append('a')\n",
    "print(str_list)\n",
    "\n",
    "# .extend\n",
    "str_list.extend(['f','g']) ## Note: str_list.append(['f','g']) will ad the list as 1 item in the existing list\n",
    "print(str_list)\n",
    "\n",
    "# .insert - Insert an object before the given index\n",
    "str_list.insert(4,'z') \n",
    "print(str_list)\n",
    "\n",
    "# .remove - Remove first instance of a value\n",
    "str_list.remove('a')\n",
    "print(str_list)\n",
    "\n",
    "# .pop - Remove item at an index and return it\n",
    "print(str_list.pop(4))\n",
    "\n",
    "# .clear\n",
    "str_list.clear()\n",
    "print(str_list)\n",
    "\n",
    "# .copy\n",
    "str_list = num_list.copy()\n",
    "print(str_list)\n",
    "\n",
    "# .count\n",
    "print(num_list.count(2))\n",
    "\n",
    "# .index\n",
    "print(str_list.index(3))\n",
    "\n",
    "# .reverse\n",
    "str_list.reverse()\n",
    "print(str_list)\n",
    "\n",
    "# .sort\n",
    "str_list.sort()\n",
    "print(str_list)"
   ]
  },
  {
   "cell_type": "markdown",
   "metadata": {},
   "source": [
    "#### Nested Lists"
   ]
  },
  {
   "cell_type": "code",
   "execution_count": 317,
   "metadata": {},
   "outputs": [
    {
     "data": {
      "text/plain": [
       "20"
      ]
     },
     "execution_count": 317,
     "metadata": {},
     "output_type": "execute_result"
    }
   ],
   "source": [
    "nest_list = [[1,2],[10,20]]\n",
    "nest_list[1][1]"
   ]
  },
  {
   "cell_type": "markdown",
   "metadata": {},
   "source": [
    "## Dictionaries"
   ]
  },
  {
   "cell_type": "code",
   "execution_count": 381,
   "metadata": {},
   "outputs": [
    {
     "name": "stdout",
     "output_type": "stream",
     "text": [
      "1.2\n",
      "2\n",
      "4\n",
      "4\n",
      "dict_items([('apple', 1.2), ('pear', 2), ('milk', 5.9), ('milk_hist', [1, 2, 3]), ('orange', 4)])\n",
      "dict_keys(['apple', 'pear', 'milk', 'milk_hist', 'orange'])\n",
      "dict_values([1.2, 2, 5.9, [1, 2, 3], 4])\n",
      "1.2\n",
      "('orange', 4)\n",
      "{1: 'one', 2: 'two'}\n"
     ]
    }
   ],
   "source": [
    "my_dict = {'apple' : 1.2, 'pear' : 2, 'milk' : 5.9, 'milk_hist' : [1,2,3]}\n",
    "print(my_dict['apple'])\n",
    "print(my_dict['milk_hist'][1])\n",
    "\n",
    "# Assign new key pair value\n",
    "my_dict['orange'] = 4\n",
    "print(my_dict['orange'])\n",
    "\n",
    "\n",
    "## Methods\n",
    "\n",
    "# .get \n",
    "print(my_dict.get('orange'))\n",
    "# Note: Same as my_dict['orange']\n",
    "\n",
    "# .items\n",
    "print(my_dict.items())\n",
    "\n",
    "# .keys\n",
    "print(my_dict.keys())\n",
    "\n",
    "# .values\n",
    "print(my_dict.values())\n",
    "\n",
    "# .pop\n",
    "print(my_dict.pop('apple'))\n",
    "\n",
    "# .popitem - Remove last key value pair\n",
    "print(my_dict.popitem())\n",
    "\n",
    "# .setdefault - Insert key with a value of default if key is not in the dictionary. Returns value if already there\n",
    "my_dict.setdefault('pear', 4)\n",
    "\n",
    "# .update\n",
    "d = {1: \"one\", 2: \"three\"}\n",
    "d1 = {2: \"two\"}\n",
    "d.update(d1)\n",
    "print(d)\n",
    "\n"
   ]
  },
  {
   "cell_type": "markdown",
   "metadata": {},
   "source": [
    "## Tuples"
   ]
  },
  {
   "cell_type": "code",
   "execution_count": 400,
   "metadata": {},
   "outputs": [
    {
     "name": "stdout",
     "output_type": "stream",
     "text": [
      "1\n",
      "0\n"
     ]
    }
   ],
   "source": [
    "tup_1 = 1,2,3\n",
    "tup_2 = ('a', 'b', 'c')\n",
    "\n",
    "# .count\n",
    "print(tup_1.count(2))\n",
    "\n",
    "# .index\n",
    "print(tup_2.index('a'))"
   ]
  },
  {
   "cell_type": "markdown",
   "metadata": {},
   "source": [
    "## Sets"
   ]
  },
  {
   "cell_type": "code",
   "execution_count": 437,
   "metadata": {},
   "outputs": [
    {
     "name": "stdout",
     "output_type": "stream",
     "text": [
      "{'b', '1', '2', 'c'}\n",
      "{'1', '2'}\n",
      "{'b', '2'}\n",
      "{'b'}\n",
      "{'b'}\n",
      "{'d', 'a', 'c'}\n",
      "{'b', 'f', 'd', 'e', 'a', 'c'}\n",
      "{'b', 'f', 'd', 'e', 'a', 'c'}\n"
     ]
    }
   ],
   "source": [
    "str_set = {'1','b','c'}\n",
    "\n",
    "## Methods\n",
    "\n",
    "# .add\n",
    "str_set.add('2')\n",
    "print(str_set)\n",
    "\n",
    "# .discard\n",
    "str_set.discard('a') # Remove an element if it exists\n",
    "\n",
    "# .remove\n",
    "str_set.remove('c') # Remove an element - error if not present\n",
    "\n",
    "# .difference\n",
    "print(str_set.difference({'c','b'})) # Creates a new set with the elements in original set but not in the method set\n",
    "\n",
    "# .difference_update\n",
    "str_set.difference_update({'1'}) # removes items in both sets\n",
    "print(str_set)\n",
    "\n",
    "# .intersetion\n",
    "print(str_set.intersection({'a','c','b', 'd'})) # Creates new set with elements in both sets original and method sets\n",
    "\n",
    "# .intersection_update\n",
    "str_set.intersection_update({'a','c','b', 'd'}) # Keep only elements of original set that are present in method set\n",
    "print(str_set)\n",
    "\n",
    "# .symmetric_difference \n",
    "print(str_set.symmetric_difference({'a','c','b', 'd'}))\n",
    "\n",
    "# .union \n",
    "print(str_set.union({'a','c','b', 'd', 'e', 'f'})) # All elements in both sets\n",
    "\n",
    "# .update\n",
    "str_set.update({'a','c','b', 'd', 'e', 'f'})\n",
    "print(str_set)"
   ]
  }
 ],
 "metadata": {
  "kernelspec": {
   "display_name": "Python 3",
   "language": "python",
   "name": "python3"
  },
  "language_info": {
   "codemirror_mode": {
    "name": "ipython",
    "version": 3
   },
   "file_extension": ".py",
   "mimetype": "text/x-python",
   "name": "python",
   "nbconvert_exporter": "python",
   "pygments_lexer": "ipython3",
   "version": "3.7.6"
  }
 },
 "nbformat": 4,
 "nbformat_minor": 4
}
