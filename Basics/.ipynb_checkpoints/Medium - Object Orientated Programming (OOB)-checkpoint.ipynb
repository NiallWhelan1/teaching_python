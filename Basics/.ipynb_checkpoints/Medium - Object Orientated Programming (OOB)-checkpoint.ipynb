{
 "cells": [
  {
   "cell_type": "markdown",
   "metadata": {},
   "source": [
    "## Class/Object Structure"
   ]
  },
  {
   "cell_type": "code",
   "execution_count": 2,
   "metadata": {},
   "outputs": [],
   "source": [
    "class NameOfClass():\n",
    "    \n",
    "    def __init__(self, param1, param2):\n",
    "        \n",
    "        # Attributes\n",
    "        # We take in the argument (parameter)\n",
    "        # And assign it as an attribute using self.attribute_name\n",
    "        self.param1 = param1\n",
    "        self.param2 = param2\n",
    "        \n",
    "    def some_method(self):\n",
    "        print(param1)"
   ]
  },
  {
   "cell_type": "markdown",
   "metadata": {},
   "source": [
    "### Example 1 - Basic Class/Object - Instance Level Attributes"
   ]
  },
  {
   "cell_type": "code",
   "execution_count": 24,
   "metadata": {},
   "outputs": [
    {
     "data": {
      "text/plain": [
       "'Niall'"
      ]
     },
     "execution_count": 24,
     "metadata": {},
     "output_type": "execute_result"
    }
   ],
   "source": [
    "## Create the object/class\n",
    "class Dog():\n",
    "    \n",
    "    def __init__(self, breed, age, owner, spots):\n",
    "        \n",
    "        # Assign the input parameter to the correct attribute for this instance of the class\n",
    "        self.breed = breed\n",
    "        self.age = age\n",
    "        self.owner = owner\n",
    "        self.spots = spots\n",
    "        \n",
    "\n",
    "## Create an instance of the dog class/object\n",
    "my_dog = Dog(breed = 'Terrier',age=  10, owner = 'Niall', spots =True)\n",
    "\n",
    "## Identify an attribute (value) of this instance\n",
    "my_dog.owner"
   ]
  },
  {
   "cell_type": "markdown",
   "metadata": {},
   "source": [
    "### Example 2 - Basic Class/Object with Class Object Attributes"
   ]
  },
  {
   "cell_type": "code",
   "execution_count": 27,
   "metadata": {},
   "outputs": [
    {
     "data": {
      "text/plain": [
       "'mammel'"
      ]
     },
     "execution_count": 27,
     "metadata": {},
     "output_type": "execute_result"
    }
   ],
   "source": [
    "## Create the object/class\n",
    "class Dog():\n",
    "    \n",
    "    # Class object attribute\n",
    "    # Will be the same for every instance of the object\n",
    "    species = 'mammel'\n",
    "    \n",
    "    def __init__(self, breed, age, owner, spots):\n",
    "        self.breed = breed\n",
    "        self.age = age\n",
    "        self.owner = owner\n",
    "        self.spots = spots\n",
    "\n",
    "my_dog = Dog(breed = 'Terrier',age=  10, owner = 'Niall', spots =True)\n",
    "my_dog.species"
   ]
  },
  {
   "cell_type": "markdown",
   "metadata": {},
   "source": [
    "### Example 3 - Basic Class/Object with Method"
   ]
  },
  {
   "cell_type": "code",
   "execution_count": 35,
   "metadata": {
    "scrolled": true
   },
   "outputs": [
    {
     "name": "stdout",
     "output_type": "stream",
     "text": [
      "Dog breed: Terrier\n",
      "Dog age: 10\n",
      "Dog owner: Niall\n",
      "Dog breed is Terrier and 2 siblings\n"
     ]
    }
   ],
   "source": [
    "## Create the object/class\n",
    "class Dog():\n",
    "    \n",
    "    species = 'mammel'\n",
    "    \n",
    "    def __init__(self, breed, age, owner, spots):\n",
    "        self.breed = breed\n",
    "        self.age = age\n",
    "        self.owner = owner\n",
    "        self.spots = spots\n",
    "\n",
    "    # Basic Method with no additional input parameters\n",
    "    def details(self):\n",
    "        print(f\"Dog breed: {self.breed}\")\n",
    "        print(f\"Dog age: {self.age}\")\n",
    "        print(f\"Dog owner: {self.owner}\")\n",
    "    \n",
    "    # basic method with additional input parameter\n",
    "    def count(self, number):\n",
    "        print(f\"Dog breed is {self.breed} and {number} siblings\")\n",
    "        \n",
    "my_dog = Dog(breed = 'Terrier',age=  10, owner = 'Niall', spots =True)\n",
    "\n",
    "# Call Methods\n",
    "my_dog.details()\n",
    "my_dog.count(2)"
   ]
  },
  {
   "cell_type": "markdown",
   "metadata": {},
   "source": [
    "### Example 4 - Basic Class 2"
   ]
  },
  {
   "cell_type": "code",
   "execution_count": 48,
   "metadata": {
    "scrolled": true
   },
   "outputs": [
    {
     "name": "stdout",
     "output_type": "stream",
     "text": [
      "Circumference is: 628.0\n",
      "Area is 31400.0\n"
     ]
    }
   ],
   "source": [
    "class Circle():\n",
    "    \n",
    "    # Class Object Attributes\n",
    "    pi = 3.14\n",
    "    \n",
    "    # Initialize with default values\n",
    "    def __init__(self, radius=1):\n",
    "        # User defined attributes\n",
    "        self.radius = radius\n",
    "        self.area = radius * radius * Circle.pi ## self.pi works the same as its a class object attribute\n",
    "        \n",
    "    def get_circ(self):\n",
    "        return self.radius * self.pi * 2\n",
    "\n",
    "my_circle = Circle(100)\n",
    "print(f\"Circumference is: {my_circle.get_circ()}\")\n",
    "print(f\"Area is {my_circle.area}\")\n"
   ]
  },
  {
   "cell_type": "markdown",
   "metadata": {},
   "source": [
    "# Inheritance"
   ]
  },
  {
   "cell_type": "code",
   "execution_count": 77,
   "metadata": {},
   "outputs": [],
   "source": [
    "# Create Base Class\n",
    "class Animal():\n",
    "    def __init__(self):\n",
    "        print('Animal Created!')\n",
    "       \n",
    "    def eating(self):\n",
    "        print(\"I am eating\")\n",
    "    \n",
    "    def animal_type(self, species):\n",
    "        print(f\"This animal is a: {species}\")\n",
    "\n",
    "        \n",
    "# Class that will inherit the base class\n",
    "class Dog(Animal):\n",
    "    \n",
    "    species = 'mammel'\n",
    "    \n",
    "    def __init__(self, breed):\n",
    "        Animal.__init__(self)\n",
    "        self.breed = breed\n",
    "        print(f\"The Animal is a dog of breed: {self.breed}\")\n",
    "\n",
    "\n",
    "    # Basic Method with no additional input parameters\n",
    "    def details(self):\n",
    "        print(f\"Dog breed: {self.breed}\")\n",
    "        \n",
    "my_dog.eating()"
   ]
  },
  {
   "cell_type": "markdown",
   "metadata": {},
   "source": [
    "# Polymhorphism"
   ]
  },
  {
   "cell_type": "code",
   "execution_count": 91,
   "metadata": {},
   "outputs": [
    {
     "name": "stdout",
     "output_type": "stream",
     "text": [
      "bruce says woof\n",
      "fur says meow\n",
      "bruce says woof\n"
     ]
    }
   ],
   "source": [
    "# Class 1\n",
    "class Cat():\n",
    "    def __init__(self, name):\n",
    "        self.name = name\n",
    "     \n",
    "    # Method called speak\n",
    "    def speak(self):\n",
    "        return f\"{self.name} says meow\"\n",
    "\n",
    "# Class 2    \n",
    "class Dog():\n",
    "    def __init__(self, name):\n",
    "        self.name = name\n",
    "    \n",
    "    # Method called speak (same name as class 1)  \n",
    "    def speak(self):\n",
    "        return f\"{self.name} says woof\"       \n",
    "    \n",
    "# Create instnaces of both classes\n",
    "bruce = Dog(\"bruce\")\n",
    "fur = Cat(\"fur\")\n",
    "\n",
    "# Polymorphism (Through iteration)- usage of the same method from 2 different classes\n",
    "for pet in [bruce,fur]:\n",
    "    print(pet.speak())\n",
    "    \n",
    "# Polymorphism (Through a function)\n",
    "def pet_speak(pet):\n",
    "    print(pet.speak())\n",
    "    \n",
    "pet_speak(bruce)"
   ]
  },
  {
   "cell_type": "markdown",
   "metadata": {},
   "source": [
    "# Abstract Class & Inheritance (With Polymorphism)"
   ]
  },
  {
   "cell_type": "code",
   "execution_count": 99,
   "metadata": {
    "scrolled": true
   },
   "outputs": [
    {
     "name": "stdout",
     "output_type": "stream",
     "text": [
      "Fred Says Woof\n",
      "Jerry Says meow\n"
     ]
    }
   ],
   "source": [
    "## Abstract base class - never expected to be called directly\n",
    "class Animal():\n",
    "    def __init__(self, name):\n",
    "        self.name = name\n",
    "    \n",
    "    # Abstract Method - Needs to be defined in subclass\n",
    "    def speak():\n",
    "        raise NotImplementedError(\"Subclass must implement this abstract method\")\n",
    "        \n",
    "class Dog(Animal):   \n",
    "    def speak(self):\n",
    "        print(f\"{self.name} Says Woof\")\n",
    "        \n",
    "class Cat(Animal):\n",
    "    def speak(self):\n",
    "        print(f\"{self.name} Says meow\")\n",
    "  \n",
    "my_dog = Dog('Fred') \n",
    "my_cat = Cat('Jerry') \n",
    "\n",
    "my_dog.speak()\n",
    "my_cat.speak()"
   ]
  },
  {
   "cell_type": "markdown",
   "metadata": {},
   "source": [
    "# Special Methods"
   ]
  },
  {
   "cell_type": "code",
   "execution_count": 128,
   "metadata": {},
   "outputs": [
    {
     "name": "stdout",
     "output_type": "stream",
     "text": [
      "Title: CoS & Author: JKR\n",
      "A book has been deleted\n"
     ]
    }
   ],
   "source": [
    "class Book():\n",
    "    \n",
    "    def __init__(self, name, author, title, pages):\n",
    "        self.name = name\n",
    "        self.author = author\n",
    "        self.title = title\n",
    "        self.pages = pages\n",
    "        \n",
    "    def __str__(self):\n",
    "        return f\"Title: {self.title} & Author: {self.author}\"\n",
    "    \n",
    "    def __del__(self):\n",
    "        print(\"A book has been deleted\")\n",
    "    \n",
    "hp = Book(name = 'Harry P', author = 'JKR', title = 'CoS', pages = 101)\n",
    "print(hp)\n",
    "\n",
    "del hp"
   ]
  }
 ],
 "metadata": {
  "kernelspec": {
   "display_name": "Python 3",
   "language": "python",
   "name": "python3"
  },
  "language_info": {
   "codemirror_mode": {
    "name": "ipython",
    "version": 3
   },
   "file_extension": ".py",
   "mimetype": "text/x-python",
   "name": "python",
   "nbconvert_exporter": "python",
   "pygments_lexer": "ipython3",
   "version": "3.7.4"
  }
 },
 "nbformat": 4,
 "nbformat_minor": 2
}
