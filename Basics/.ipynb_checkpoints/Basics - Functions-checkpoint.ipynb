{
 "cells": [
  {
   "cell_type": "markdown",
   "metadata": {},
   "source": [
    "## Create Function"
   ]
  },
  {
   "cell_type": "code",
   "execution_count": 1,
   "metadata": {},
   "outputs": [],
   "source": [
    "def hello_func():\n",
    "    \"\"\"\n",
    "    DOCSTRING: Information about the fuction\n",
    "    INPUT: No Input Parameters\n",
    "    OUTPUT: Prints \"Hello\"\n",
    "    \"\"\"\n",
    "    print(\"Hello World\")"
   ]
  },
  {
   "cell_type": "code",
   "execution_count": 2,
   "metadata": {},
   "outputs": [
    {
     "name": "stdout",
     "output_type": "stream",
     "text": [
      "Hello Worls\n"
     ]
    }
   ],
   "source": [
    "hello_func()"
   ]
  },
  {
   "cell_type": "markdown",
   "metadata": {},
   "source": [
    "## Pig Latin Example"
   ]
  },
  {
   "cell_type": "code",
   "execution_count": 7,
   "metadata": {},
   "outputs": [],
   "source": [
    "def pig_latin(word):\n",
    "    if not word[0] in 'aeiou':\n",
    "        return word[1:] + word[0] + 'ay'\n",
    "    else:\n",
    "        return word + 'ay'"
   ]
  },
  {
   "cell_type": "code",
   "execution_count": 11,
   "metadata": {},
   "outputs": [
    {
     "data": {
      "text/plain": [
       "'ellowhay'"
      ]
     },
     "execution_count": 11,
     "metadata": {},
     "output_type": "execute_result"
    }
   ],
   "source": [
    "pig_latin('hellow')"
   ]
  },
  {
   "cell_type": "markdown",
   "metadata": {},
   "source": [
    "## Function with *args\n",
    "Allows you to pass as many arguments as you want"
   ]
  },
  {
   "cell_type": "code",
   "execution_count": 19,
   "metadata": {},
   "outputs": [
    {
     "data": {
      "text/plain": [
       "160.5"
      ]
     },
     "execution_count": 19,
     "metadata": {},
     "output_type": "execute_result"
    }
   ],
   "source": [
    "def five_perc(*args):\n",
    "    # 5% of the sum of all arguments passed\n",
    "    return sum(args) * 0.5\n",
    "\n",
    "my_func(100,200,21) "
   ]
  },
  {
   "cell_type": "markdown",
   "metadata": {},
   "source": [
    "## Function with **kwargs\n",
    "\n",
    "kwargs = Keyword Arguments\n",
    "\n",
    "Allows you to pass an unrestricted number of key word arguments"
   ]
  },
  {
   "cell_type": "code",
   "execution_count": 28,
   "metadata": {},
   "outputs": [
    {
     "name": "stdout",
     "output_type": "stream",
     "text": [
      "I eat 2 apples a day.\n",
      "I eat 1 oranges a day.\n"
     ]
    }
   ],
   "source": [
    "def fruit_func(**kwargs):\n",
    "    if 'apple' in kwargs:\n",
    "        print(f\"I eat {kwargs['apple']} apples a day.\")\n",
    "    else: \n",
    "        print('I eat no apples.')\n",
    "    \n",
    "    if 'orange' in kwargs:\n",
    "        print(f\"I eat {kwargs['orange']} oranges a day.\")\n",
    "    else: \n",
    "        print('I eat no oranges.')\n",
    "    \n",
    "              \n",
    "\n",
    "fruit_func(apple = 2, orange = 1)"
   ]
  },
  {
   "cell_type": "code",
   "execution_count": 29,
   "metadata": {},
   "outputs": [],
   "source": [
    "# Passing *arg and **kwargs at the same time\n",
    "def my_func(*args, **kwargs):\n",
    "    print(args)\n",
    "    print(kwargs)"
   ]
  },
  {
   "cell_type": "code",
   "execution_count": 30,
   "metadata": {},
   "outputs": [
    {
     "name": "stdout",
     "output_type": "stream",
     "text": [
      "(1, 2, 3)\n",
      "{'name': 'Text'}\n"
     ]
    }
   ],
   "source": [
    "my_func(1,2,3, name = 'Text')"
   ]
  },
  {
   "cell_type": "code",
   "execution_count": 44,
   "metadata": {},
   "outputs": [
    {
     "data": {
      "text/plain": [
       "'AnAnCoNdA'"
      ]
     },
     "execution_count": 44,
     "metadata": {},
     "output_type": "execute_result"
    }
   ],
   "source": [
    "def myfunc(x):\n",
    "    count = 0\n",
    "    output = ''\n",
    "    for i in x:\n",
    "        count += 1\n",
    "        if count % 2 == 0:\n",
    "            output += i.lower()\n",
    "        else:\n",
    "            output += i.upper()\n",
    "            \n",
    "    return output\n",
    "\n",
    "myfunc('Ananconda')       "
   ]
  },
  {
   "cell_type": "markdown",
   "metadata": {},
   "source": [
    "## Lambda - Map & Filter"
   ]
  },
  {
   "cell_type": "code",
   "execution_count": 46,
   "metadata": {},
   "outputs": [
    {
     "name": "stdout",
     "output_type": "stream",
     "text": [
      "1\n",
      "4\n",
      "9\n",
      "16\n",
      "25\n"
     ]
    },
    {
     "data": {
      "text/plain": [
       "[1, 4, 9, 16, 25]"
      ]
     },
     "execution_count": 46,
     "metadata": {},
     "output_type": "execute_result"
    }
   ],
   "source": [
    "# Map\n",
    "def square(num):\n",
    "    return num ** 2\n",
    "\n",
    "num_list = [1,2,3,4,5]\n",
    "\n",
    "for i in map(square,num_list):\n",
    "    print(i)\n",
    "\n",
    "list(map(square,num_list))"
   ]
  },
  {
   "cell_type": "code",
   "execution_count": 49,
   "metadata": {},
   "outputs": [
    {
     "data": {
      "text/plain": [
       "[2, 4]"
      ]
     },
     "execution_count": 49,
     "metadata": {},
     "output_type": "execute_result"
    }
   ],
   "source": [
    "# Filter\n",
    "# Function needs to return a Boolean value\n",
    "\n",
    "\n",
    "num_list = [1,2,3,4,5]\n",
    "\n",
    "def check_even(num):\n",
    "    return num%2 == 0\n",
    "\n",
    "list(filter(check_even,num_list))\n"
   ]
  },
  {
   "cell_type": "code",
   "execution_count": 52,
   "metadata": {},
   "outputs": [
    {
     "data": {
      "text/plain": [
       "[1, 4, 9, 16, 25]"
      ]
     },
     "execution_count": 52,
     "metadata": {},
     "output_type": "execute_result"
    }
   ],
   "source": [
    "# Lambda\n",
    "\n",
    "num_list = [1,2,3,4,5]\n",
    "\n",
    "list(map(lambda num : num ** 2, num_list))"
   ]
  }
 ],
 "metadata": {
  "kernelspec": {
   "display_name": "Python 3",
   "language": "python",
   "name": "python3"
  },
  "language_info": {
   "codemirror_mode": {
    "name": "ipython",
    "version": 3
   },
   "file_extension": ".py",
   "mimetype": "text/x-python",
   "name": "python",
   "nbconvert_exporter": "python",
   "pygments_lexer": "ipython3",
   "version": "3.7.4"
  }
 },
 "nbformat": 4,
 "nbformat_minor": 2
}
