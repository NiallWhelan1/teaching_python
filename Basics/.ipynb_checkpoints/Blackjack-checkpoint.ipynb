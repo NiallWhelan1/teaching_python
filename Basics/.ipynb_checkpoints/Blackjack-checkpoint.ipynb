{
 "cells": [
  {
   "cell_type": "markdown",
   "metadata": {},
   "source": [
    "# Global Variables\n",
    "https://github.com/Pierian-Data/Complete-Python-3-Bootcamp/blob/master/08-Milestone%20Project%20-%202/02-Milestone%20Project%202%20-%20Walkthrough%20Steps%20Workbook.ipynb"
   ]
  },
  {
   "cell_type": "code",
   "execution_count": 1,
   "metadata": {},
   "outputs": [],
   "source": [
    "import random\n",
    "\n",
    "suits = ('Hearts', 'Diamonds', 'Spades', 'Clubs')\n",
    "ranks = ('Two', 'Three', 'Four', 'Five', 'Six', 'Seven', 'Eight', 'Nine', 'Ten', 'Jack', 'Queen', 'King', 'Ace')\n",
    "values = {'Two':2, 'Three':3, 'Four':4, 'Five':5, 'Six':6, 'Seven':7, 'Eight':8, 'Nine':9, 'Ten':10, 'Jack':10,\n",
    "         'Queen':10, 'King':10, 'Ace':11}\n",
    "\n",
    "playing = True"
   ]
  },
  {
   "cell_type": "markdown",
   "metadata": {},
   "source": [
    "## Card Class"
   ]
  },
  {
   "cell_type": "code",
   "execution_count": 2,
   "metadata": {},
   "outputs": [],
   "source": [
    "class Card:\n",
    "    '''\n",
    "    Class to store a single card.\n",
    "    '''\n",
    "    \n",
    "    def __init__(self, suit, rank):\n",
    "        self.suit = suit\n",
    "        self.rank = rank\n",
    "    \n",
    "    def __str__(self):\n",
    "        return f\"{self.rank} of {self.suit}\""
   ]
  },
  {
   "cell_type": "markdown",
   "metadata": {},
   "source": [
    "## Deck Class"
   ]
  },
  {
   "cell_type": "code",
   "execution_count": 3,
   "metadata": {},
   "outputs": [],
   "source": [
    "class Deck:\n",
    "    \n",
    "    def __init__(self):\n",
    "        self.deck = []  # start with an empty list\n",
    "        for suit in suits:\n",
    "            for rank in ranks:\n",
    "                self.deck.append(Card(suit,rank))\n",
    "    \n",
    "    def __str__(self):\n",
    "        return str(my_deck.deck)\n",
    "    \n",
    "    def shuffle(self):\n",
    "        random.shuffle(self.deck)\n",
    "        print(f\"Deck has been shuffled - {len(self.deck)} cards remaining\")\n",
    "        \n",
    "    def deal(self):\n",
    "        dealt_card = random.choice(self.deck)\n",
    "        self.deck.remove(dealt_card)\n",
    "        return dealt_card"
   ]
  },
  {
   "cell_type": "markdown",
   "metadata": {},
   "source": [
    "## Hand Class"
   ]
  },
  {
   "cell_type": "code",
   "execution_count": 4,
   "metadata": {},
   "outputs": [],
   "source": [
    "class Hand:\n",
    "    def __init__(self):\n",
    "        self.cards = []  # start with an empty list as we did in the Deck class\n",
    "        self.value = 0   # start with zero value\n",
    "        self.aces = 0    # add an attribute to keep track of aces\n",
    "    \n",
    "    def add_card(self,card):\n",
    "        self.cards.append(card)\n",
    "        self.value += values[card.rank]\n",
    "        if card.rank == 'Ace':\n",
    "            self.aces += 1\n",
    "    \n",
    "    def adjust_for_ace(self):\n",
    "        self.value -= (10 * self.aces)"
   ]
  },
  {
   "cell_type": "markdown",
   "metadata": {},
   "source": [
    "## Chips Class"
   ]
  },
  {
   "cell_type": "code",
   "execution_count": 5,
   "metadata": {},
   "outputs": [],
   "source": [
    "class Chips:\n",
    "    \n",
    "    def __init__(self, total = 100):\n",
    "        self.total = total \n",
    "        \n",
    "    def win_bet(self, bet_value):\n",
    "        self.total += bet_value\n",
    "    \n",
    "    def lose_bet(self, bet_value):\n",
    "        self.total -= bet_value"
   ]
  },
  {
   "cell_type": "markdown",
   "metadata": {},
   "source": [
    "## Functions - Take Bet, Hit, Hit or Stand"
   ]
  },
  {
   "cell_type": "code",
   "execution_count": 6,
   "metadata": {},
   "outputs": [],
   "source": [
    "def take_bet(total):\n",
    "    \n",
    "    while True:\n",
    "        try:\n",
    "            bet_value = int(input(\"How much would you like to bet: \"))\n",
    "        except:\n",
    "            print('Value Unacceptable - Please enter an integer value.')\n",
    "            continue\n",
    "        else:\n",
    "            if bet_value <= total:\n",
    "                return bet_value\n",
    "                break\n",
    "            else:\n",
    "                print('Not Enough Chips Available - Try a smaller number')\n",
    "                continue\n",
    "                \n",
    "\n",
    "def hit(deck,hand):\n",
    "    hand.add_card(deck.deal())\n",
    "    print(hand.cards[-1])\n",
    "    if hand.value > 21:\n",
    "        hand.adjust_for_ace()\n",
    "        if hand.value > 21:\n",
    "            print(f\"Hand Value: {hand.value}\")\n",
    "            print(\"Bust!\")\n",
    "        else:\n",
    "            print(f\"Hand Value: {hand.value}\")\n",
    "    else:\n",
    "        print(f\"Hand Value: {hand.value}\")\n",
    "    \n",
    "\n",
    "\n",
    "def hit_or_stand(deck,hand):\n",
    "    global playing  # to control an upcoming while loop\n",
    "    \n",
    "    action = input('Hit or Stand: ')\n",
    "    \n",
    "    while True:\n",
    "        if action.lower() in ['hit', 'stand']:\n",
    "            break\n",
    "        else:\n",
    "            action = input('Invalid Input - Options Hit or Stand')\n",
    "            continue\n",
    "    \n",
    "    if action.lower() == 'hit':\n",
    "        hit(deck,hand)\n",
    "        playing = True\n",
    "    else:\n",
    "        playing = False"
   ]
  },
  {
   "cell_type": "markdown",
   "metadata": {},
   "source": [
    "## Show Some/All"
   ]
  },
  {
   "cell_type": "code",
   "execution_count": 47,
   "metadata": {},
   "outputs": [],
   "source": [
    "def show_some(player,dealer):\n",
    "    print('\\nPlayer Cards:')\n",
    "    for i in player.cards:\n",
    "        print(i)\n",
    "    print(f'\\nPlayer Hand Value: {player.value}\\n')\n",
    "        \n",
    "    dealer_card_count = 0\n",
    "    print('\\nDealer Cards:')\n",
    "    for i in dealer.cards:\n",
    "        dealer_card_count += 1\n",
    "        if dealer_card_count == 1:\n",
    "            print(\"Hidden Card\")\n",
    "        else:\n",
    "            print(i) \n",
    "    \n",
    "def show_all(player,dealer):\n",
    "    print('\\nPlayer Cards:')\n",
    "    for i in player.cards:\n",
    "        print(i)\n",
    "    print(f'\\nPlayer Hand Value: {player.value}\\n')\n",
    "    \n",
    "    print('\\nDealer Cards:')\n",
    "    for i in dealer.cards:\n",
    "        print(i)\n",
    "    print(f'\\nDealer Hand Value: {dealer.value}\\n')\n",
    "    \n",
    "    "
   ]
  },
  {
   "cell_type": "markdown",
   "metadata": {},
   "source": [
    "## End of Game Scenarios"
   ]
  },
  {
   "cell_type": "code",
   "execution_count": null,
   "metadata": {},
   "outputs": [],
   "source": [
    "\n",
    "def player_busts():\n",
    "    pass\n",
    "\n",
    "def player_wins():\n",
    "    pass\n",
    "\n",
    "def dealer_busts():\n",
    "    pass\n",
    "    \n",
    "def dealer_wins():\n",
    "    pass\n",
    "    \n",
    "def push():\n",
    "    pass"
   ]
  },
  {
   "cell_type": "markdown",
   "metadata": {},
   "source": [
    "## Game "
   ]
  },
  {
   "cell_type": "code",
   "execution_count": null,
   "metadata": {},
   "outputs": [],
   "source": []
  },
  {
   "cell_type": "markdown",
   "metadata": {},
   "source": [
    "## Game Function"
   ]
  },
  {
   "cell_type": "code",
   "execution_count": null,
   "metadata": {},
   "outputs": [],
   "source": []
  },
  {
   "cell_type": "code",
   "execution_count": null,
   "metadata": {},
   "outputs": [],
   "source": []
  },
  {
   "cell_type": "code",
   "execution_count": null,
   "metadata": {},
   "outputs": [],
   "source": []
  },
  {
   "cell_type": "code",
   "execution_count": 50,
   "metadata": {
    "scrolled": false
   },
   "outputs": [
    {
     "name": "stdout",
     "output_type": "stream",
     "text": [
      "\n",
      "Player Cards:\n",
      "Five of Spades\n",
      "King of Hearts\n",
      "\n",
      "Player Hand Value: 15\n",
      "\n",
      "\n",
      "Dealer Cards:\n",
      "Four of Clubs\n",
      "Five of Diamonds\n",
      "\n",
      "Dealer Hand Value: 9\n",
      "\n"
     ]
    }
   ],
   "source": [
    "my_hand = Hand()\n",
    "dealer = Hand()\n",
    "the_deck = Deck()\n",
    "\n",
    "my_hand.add_card(the_deck.deal())\n",
    "my_hand.add_card(the_deck.deal())\n",
    "\n",
    "dealer.add_card(the_deck.deal())\n",
    "dealer.add_card(the_deck.deal())\n",
    "\n",
    "\n",
    "#show_some(my_hand,dealer)\n",
    "show_all(my_hand,dealer)"
   ]
  }
 ],
 "metadata": {
  "kernelspec": {
   "display_name": "Python 3",
   "language": "python",
   "name": "python3"
  },
  "language_info": {
   "codemirror_mode": {
    "name": "ipython",
    "version": 3
   },
   "file_extension": ".py",
   "mimetype": "text/x-python",
   "name": "python",
   "nbconvert_exporter": "python",
   "pygments_lexer": "ipython3",
   "version": "3.7.4"
  }
 },
 "nbformat": 4,
 "nbformat_minor": 2
}
