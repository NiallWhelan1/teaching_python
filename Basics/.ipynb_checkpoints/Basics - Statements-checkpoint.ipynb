{
 "cells": [
  {
   "cell_type": "markdown",
   "metadata": {},
   "source": [
    "### IF / ELIF"
   ]
  },
  {
   "cell_type": "code",
   "execution_count": 3,
   "metadata": {},
   "outputs": [
    {
     "name": "stdout",
     "output_type": "stream",
     "text": [
      "maybe\n"
     ]
    }
   ],
   "source": [
    "loc = 'bank'\n",
    "\n",
    "if loc == 'garage':\n",
    "    print('Yes')\n",
    "elif loc == 'bank':\n",
    "    print('Maybe')\n",
    "else:\n",
    "    print('No')"
   ]
  },
  {
   "cell_type": "markdown",
   "metadata": {},
   "source": [
    "### FOR LOOP"
   ]
  },
  {
   "cell_type": "code",
   "execution_count": 9,
   "metadata": {},
   "outputs": [
    {
     "name": "stdout",
     "output_type": "stream",
     "text": [
      "This # is 0\n",
      "This # is 1\n",
      "This # is 2\n",
      "This # is 3\n",
      "This # is 4\n",
      "This # is 5\n",
      "This # is 6\n",
      "This # is 7\n",
      "This # is 8\n",
      "This # is 9\n",
      "This # is 10\n"
     ]
    }
   ],
   "source": [
    "num_list = list(range(0,11))\n",
    "\n",
    "for i in num_list:\n",
    "    print(f'This # is {i}')"
   ]
  },
  {
   "cell_type": "markdown",
   "metadata": {},
   "source": [
    "#### FOR & IF"
   ]
  },
  {
   "cell_type": "code",
   "execution_count": 26,
   "metadata": {},
   "outputs": [
    {
     "name": "stdout",
     "output_type": "stream",
     "text": [
      "This # is even: 2\n",
      "This # is even: 4\n",
      "This # is even: 6\n",
      "This # is even: 8\n",
      "This # is even: 10\n"
     ]
    }
   ],
   "source": [
    "for i in num_list:\n",
    "    if (i % 2 == 0 and i > 0):\n",
    "        print(f'This # is even: {i}')"
   ]
  },
  {
   "cell_type": "code",
   "execution_count": 29,
   "metadata": {},
   "outputs": [
    {
     "name": "stdout",
     "output_type": "stream",
     "text": [
      "0\n",
      "1\n",
      "3\n",
      "6\n",
      "10\n",
      "15\n",
      "21\n",
      "28\n",
      "36\n",
      "45\n",
      "55\n"
     ]
    }
   ],
   "source": [
    "num = 0\n",
    "for i in num_list:\n",
    "    num += i\n",
    "    print(num)"
   ]
  },
  {
   "cell_type": "code",
   "execution_count": 30,
   "metadata": {},
   "outputs": [
    {
     "name": "stdout",
     "output_type": "stream",
     "text": [
      "1st = 1\n",
      "2nd = 2\n",
      "1st = 3\n",
      "2nd = 4\n",
      "1st = 5\n",
      "2nd = 6\n"
     ]
    }
   ],
   "source": [
    "# Tuble Unpacking\n",
    "tub_list = [(1,2),(3,4),(5,6)]\n",
    "\n",
    "for a,b in tub_list:\n",
    "    print(f'1st = {a}') \n",
    "    print(f'2nd = {b}') "
   ]
  },
  {
   "cell_type": "code",
   "execution_count": 34,
   "metadata": {
    "scrolled": true
   },
   "outputs": [
    {
     "name": "stdout",
     "output_type": "stream",
     "text": [
      "Key = a & Value = 100\n",
      "Key = b & Value = 1000\n",
      "Key = c & Value = 10000\n"
     ]
    }
   ],
   "source": [
    "# Dictionary (Tuple) Unpacking \n",
    "d = {'a' : 100, 'b' : 1000 , 'c' : 10000}\n",
    "\n",
    "for key,value in d.items():\n",
    "    print(f'Key = {key} & Value = {value}')"
   ]
  },
  {
   "cell_type": "markdown",
   "metadata": {},
   "source": [
    "## WHILE LOOP"
   ]
  },
  {
   "cell_type": "code",
   "execution_count": 37,
   "metadata": {},
   "outputs": [
    {
     "name": "stdout",
     "output_type": "stream",
     "text": [
      "1\n",
      "2\n",
      "3\n",
      "4\n"
     ]
    }
   ],
   "source": [
    "num = 0\n",
    "while num < 4:\n",
    "    num += 1\n",
    "    print(num)"
   ]
  },
  {
   "cell_type": "code",
   "execution_count": 39,
   "metadata": {
    "scrolled": false
   },
   "outputs": [
    {
     "name": "stdout",
     "output_type": "stream",
     "text": [
      "Never Meets Condition\n"
     ]
    }
   ],
   "source": [
    "num = 0\n",
    "while num > 10:\n",
    "    num += 1\n",
    "    print(num)\n",
    "else :\n",
    "    print('Never Meets Condition')"
   ]
  },
  {
   "cell_type": "markdown",
   "metadata": {},
   "source": [
    "## Loop Sub-Statements\n",
    "Loops (For & While)\n",
    "\n",
    "Sub-Statements:\n",
    "\n",
    "    break: Breaks out of the enclosing loop\n",
    "    continue: Goes to the top of the enclosing loop\n",
    "    pass: Does nothing (primarily for development purposes)"
   ]
  },
  {
   "cell_type": "code",
   "execution_count": 42,
   "metadata": {},
   "outputs": [],
   "source": [
    "# pass\n",
    "for i in range(1,10):\n",
    "    pass \n",
    "    # Would be an error if we just used a comment"
   ]
  },
  {
   "cell_type": "code",
   "execution_count": 45,
   "metadata": {},
   "outputs": [
    {
     "name": "stdout",
     "output_type": "stream",
     "text": [
      "1\n",
      "3\n",
      "5\n",
      "7\n",
      "9\n"
     ]
    }
   ],
   "source": [
    "# continue\n",
    "for i in range(1,10):\n",
    "    if i % 2 == 0:\n",
    "        continue\n",
    "    else:\n",
    "        print(i)"
   ]
  },
  {
   "cell_type": "code",
   "execution_count": 46,
   "metadata": {},
   "outputs": [
    {
     "name": "stdout",
     "output_type": "stream",
     "text": [
      "Value = 0\n",
      "Value = 1\n"
     ]
    }
   ],
   "source": [
    "x = 0\n",
    "while x < 5:\n",
    "    if x == 2:\n",
    "        break\n",
    "    else:\n",
    "        print(f'Value = {x}')\n",
    "    x += 1"
   ]
  },
  {
   "cell_type": "markdown",
   "metadata": {},
   "source": [
    "### Useful Operators"
   ]
  },
  {
   "cell_type": "code",
   "execution_count": 49,
   "metadata": {},
   "outputs": [
    {
     "name": "stdout",
     "output_type": "stream",
     "text": [
      "('a', 1)\n",
      "('b', 2)\n",
      "('c', 3)\n"
     ]
    }
   ],
   "source": [
    "## Zip\n",
    "list1 = ['a','b','c']\n",
    "list2 = [1,2,3]\n",
    "\n",
    "for item in zip(list1, list2):\n",
    "    print(item)"
   ]
  },
  {
   "cell_type": "code",
   "execution_count": 50,
   "metadata": {
    "scrolled": true
   },
   "outputs": [
    {
     "data": {
      "text/plain": [
       "True"
      ]
     },
     "execution_count": 50,
     "metadata": {},
     "output_type": "execute_result"
    }
   ],
   "source": [
    "## in \n",
    "list1 = ['a','b','c']\n",
    "\n",
    "'a' in list1"
   ]
  },
  {
   "cell_type": "code",
   "execution_count": 54,
   "metadata": {},
   "outputs": [
    {
     "name": "stdout",
     "output_type": "stream",
     "text": [
      "['a', 'c', 'b']\n"
     ]
    },
    {
     "data": {
      "text/plain": [
       "63"
      ]
     },
     "execution_count": 54,
     "metadata": {},
     "output_type": "execute_result"
    }
   ],
   "source": [
    "# Random \n",
    "from random import shuffle\n",
    "shuffle(list1)\n",
    "print(list1)\n",
    "\n",
    "\n",
    "from random import randint\n",
    "print(randint(0,100))\n",
    "\n"
   ]
  },
  {
   "cell_type": "code",
   "execution_count": 59,
   "metadata": {},
   "outputs": [
    {
     "name": "stdout",
     "output_type": "stream",
     "text": [
      "Favorite Number:8\n",
      "8\n"
     ]
    }
   ],
   "source": [
    "# Input\n",
    "result = int(input('Favorite Number:'))\n",
    "print(result)\n",
    "\n"
   ]
  },
  {
   "cell_type": "markdown",
   "metadata": {},
   "source": [
    "### List Comprehensions"
   ]
  },
  {
   "cell_type": "code",
   "execution_count": 66,
   "metadata": {},
   "outputs": [
    {
     "name": "stdout",
     "output_type": "stream",
     "text": [
      "['L', 'e', 't', 't', 'e', 'r']\n",
      "[0, 4, 16, 36, 64, 100, 144, 196, 256, 324, 400, 484, 576, 676, 784, 900, 1024, 1156, 1296, 1444, 1600, 1764, 1936, 2116, 2304, 2500, 2704, 2916, 3136, 3364, 3600, 3844, 4096, 4356, 4624, 4900, 5184, 5476, 5776, 6084, 6400, 6724, 7056, 7396, 7744, 8100, 8464, 8836, 9216, 9604]\n"
     ]
    }
   ],
   "source": [
    "str_list = [x for x in 'Letter']\n",
    "print(str_list)\n",
    "\n",
    "num_list = [num ** 2 for num in range(0,100) if (num % 2 == 0) ]\n",
    "print(num_list)"
   ]
  }
 ],
 "metadata": {
  "kernelspec": {
   "display_name": "Python 3",
   "language": "python",
   "name": "python3"
  },
  "language_info": {
   "codemirror_mode": {
    "name": "ipython",
    "version": 3
   },
   "file_extension": ".py",
   "mimetype": "text/x-python",
   "name": "python",
   "nbconvert_exporter": "python",
   "pygments_lexer": "ipython3",
   "version": "3.7.6"
  }
 },
 "nbformat": 4,
 "nbformat_minor": 4
}
