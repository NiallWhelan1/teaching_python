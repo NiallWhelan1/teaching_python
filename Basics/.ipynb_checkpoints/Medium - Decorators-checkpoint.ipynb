{
 "cells": [
  {
   "cell_type": "markdown",
   "metadata": {},
   "source": [
    "## Functions returning a sub function"
   ]
  },
  {
   "cell_type": "code",
   "execution_count": 30,
   "metadata": {},
   "outputs": [
    {
     "name": "stdout",
     "output_type": "stream",
     "text": [
      "Name : Jose\n"
     ]
    },
    {
     "data": {
      "text/plain": [
       "<function __main__.hello.<locals>.greet()>"
      ]
     },
     "execution_count": 30,
     "metadata": {},
     "output_type": "execute_result"
    }
   ],
   "source": [
    "def hello(name = 'Jose'):\n",
    "    print(f'Name : {name}')\n",
    "    \n",
    "    def greet():\n",
    "        return '\\tGreetings'\n",
    "    \n",
    "    def welcome():\n",
    "        return '\\tThis is welcome inside hello'\n",
    "    \n",
    "    return greet\n",
    "\n",
    "func = hello()\n",
    "func"
   ]
  },
  {
   "cell_type": "markdown",
   "metadata": {},
   "source": [
    "## Passing a function as an arguement to another function"
   ]
  },
  {
   "cell_type": "code",
   "execution_count": 29,
   "metadata": {},
   "outputs": [
    {
     "name": "stdout",
     "output_type": "stream",
     "text": [
      "Hello Jose\n"
     ]
    }
   ],
   "source": [
    "def hello(name):\n",
    "    print(f'Hello {name}')\n",
    "    \n",
    "def other_func(arg_func ,name = 'Jose'):\n",
    "    arg_func(name)\n",
    "    \n",
    "other_func(hello) # Note to pass the raw function but do execute with ()"
   ]
  },
  {
   "cell_type": "markdown",
   "metadata": {},
   "source": [
    "# Decorator"
   ]
  },
  {
   "cell_type": "code",
   "execution_count": 40,
   "metadata": {},
   "outputs": [],
   "source": [
    "## Decorator Function\n",
    "def new_decorator(original_function):\n",
    "    \n",
    "    def wrap_func():\n",
    "        print('Some extra code, before the original function\\n')\n",
    "        \n",
    "        original_function()\n",
    "    \n",
    "        print('\\nSome extra code, after the original function')\n",
    "        \n",
    "    return wrap_func"
   ]
  },
  {
   "cell_type": "code",
   "execution_count": 39,
   "metadata": {},
   "outputs": [
    {
     "name": "stdout",
     "output_type": "stream",
     "text": [
      "Some extra code, before the original function\n",
      "\n",
      "I am the original function\n",
      "\n",
      "Some extra code, after the original function\n"
     ]
    }
   ],
   "source": [
    "## Running without the decorator (@) symbol\n",
    "def func_needs_decorator():\n",
    "    print(\"I am the original function\")\n",
    "\n",
    "# Pass the original function to the \"decorator function\"\n",
    "decorated_func =  new_decorator(func_needs_decorator)\n",
    "decorated_func()"
   ]
  },
  {
   "cell_type": "code",
   "execution_count": 43,
   "metadata": {},
   "outputs": [
    {
     "name": "stdout",
     "output_type": "stream",
     "text": [
      "Some extra code, before the original function\n",
      "\n",
      "I am the original function\n",
      "\n",
      "Some extra code, after the original function\n"
     ]
    }
   ],
   "source": [
    "# Using decorator symbol\n",
    "@new_decorator\n",
    "def func_needs_decorator():\n",
    "    print(\"I am the original function\")\n",
    "    \n",
    "func_needs_decorator()"
   ]
  }
 ],
 "metadata": {
  "kernelspec": {
   "display_name": "Python 3",
   "language": "python",
   "name": "python3"
  },
  "language_info": {
   "codemirror_mode": {
    "name": "ipython",
    "version": 3
   },
   "file_extension": ".py",
   "mimetype": "text/x-python",
   "name": "python",
   "nbconvert_exporter": "python",
   "pygments_lexer": "ipython3",
   "version": "3.7.4"
  }
 },
 "nbformat": 4,
 "nbformat_minor": 2
}
