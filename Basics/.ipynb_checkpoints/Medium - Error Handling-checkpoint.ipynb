{
 "cells": [
  {
   "cell_type": "markdown",
   "metadata": {},
   "source": [
    "## Basic Error Handling"
   ]
  },
  {
   "cell_type": "code",
   "execution_count": 7,
   "metadata": {},
   "outputs": [],
   "source": [
    "def add(n1,n2):\n",
    "    \n",
    "    try:\n",
    "        return n1 + n2\n",
    "    \n",
    "    except:\n",
    "        print(\"Error Occurred\")\n",
    "        \n",
    "    finally:\n",
    "        print(\"Done\")\n",
    "\n",
    "add(1,2)"
   ]
  },
  {
   "cell_type": "markdown",
   "metadata": {},
   "source": [
    "### Error Handling - WIth Else"
   ]
  },
  {
   "cell_type": "code",
   "execution_count": 11,
   "metadata": {},
   "outputs": [
    {
     "name": "stdout",
     "output_type": "stream",
     "text": [
      "Result = 3 \n",
      "Good Addition\n"
     ]
    }
   ],
   "source": [
    "def add(n1,n2):\n",
    "    \n",
    "    try:\n",
    "        result = n1 + n2\n",
    "    \n",
    "    except:\n",
    "        print(\"Error Occurred\")\n",
    "        \n",
    "    else:\n",
    "        print(f\"\"\"Result = {result} \\nGood Addition\"\"\")\n",
    "        \n",
    "add(1,2)"
   ]
  },
  {
   "cell_type": "markdown",
   "metadata": {},
   "source": [
    "## Exception Types\n",
    "\n",
    "Error Documentation: https://docs.python.org/3/tutorial/errors.html\n",
    "\n",
    "In Built Errors: https://docs.python.org/3/library/exceptions.html"
   ]
  },
  {
   "cell_type": "code",
   "execution_count": 3,
   "metadata": {},
   "outputs": [
    {
     "name": "stdout",
     "output_type": "stream",
     "text": [
      "OS Error\n",
      "This part always runs\n"
     ]
    }
   ],
   "source": [
    "try:\n",
    "    f = open(\"TextFile.txt\", \"r\")\n",
    "    f.write('\\nMore Text')\n",
    "\n",
    "except TypeError:\n",
    "    print('Type Error')\n",
    "except OSError:\n",
    "    print('OS Error')\n",
    "else:\n",
    "    print('text added to file')\n",
    "finally:\n",
    "    print('This part always runs')\n",
    "    f.close()"
   ]
  },
  {
   "cell_type": "markdown",
   "metadata": {},
   "source": [
    "### Exception in While Loop"
   ]
  },
  {
   "cell_type": "code",
   "execution_count": 10,
   "metadata": {
    "scrolled": true
   },
   "outputs": [
    {
     "name": "stdout",
     "output_type": "stream",
     "text": [
      "Number Please:1\n",
      "Input is good: 1\n"
     ]
    }
   ],
   "source": [
    "def input_int():\n",
    "    while True:\n",
    "        try:\n",
    "            num = int(input(\"Number Please:\"))\n",
    "\n",
    "        except:\n",
    "            print(\"This input needs to be a number. Try again.\")\n",
    "        else:\n",
    "            print(f\"Input is good: {num}\")\n",
    "            break\n",
    "        \n",
    "        # Note this always runs!    \n",
    "        #finally:\n",
    "        #    print(\"End of try/except/finally\")\n",
    "            \n",
    "input_int()"
   ]
  }
 ],
 "metadata": {
  "kernelspec": {
   "display_name": "Python 3",
   "language": "python",
   "name": "python3"
  },
  "language_info": {
   "codemirror_mode": {
    "name": "ipython",
    "version": 3
   },
   "file_extension": ".py",
   "mimetype": "text/x-python",
   "name": "python",
   "nbconvert_exporter": "python",
   "pygments_lexer": "ipython3",
   "version": "3.7.4"
  }
 },
 "nbformat": 4,
 "nbformat_minor": 2
}
