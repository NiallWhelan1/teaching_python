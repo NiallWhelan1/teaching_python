{
 "cells": [
  {
   "cell_type": "markdown",
   "metadata": {},
   "source": [
    "## Working Directory"
   ]
  },
  {
   "cell_type": "code",
   "execution_count": 27,
   "metadata": {},
   "outputs": [
    {
     "data": {
      "text/plain": [
       "'/Users/niall.whelan/Documents/Python/Training - Investment Course/Basics'"
      ]
     },
     "execution_count": 27,
     "metadata": {},
     "output_type": "execute_result"
    }
   ],
   "source": [
    "import os\n",
    "os.getcwd()"
   ]
  },
  {
   "cell_type": "markdown",
   "metadata": {},
   "source": [
    "## Text Files"
   ]
  },
  {
   "cell_type": "markdown",
   "metadata": {},
   "source": [
    "#### Create Text File - Jupyter Only"
   ]
  },
  {
   "cell_type": "code",
   "execution_count": 1,
   "metadata": {},
   "outputs": [
    {
     "name": "stdout",
     "output_type": "stream",
     "text": [
      "Writing TextFile.txt\n"
     ]
    }
   ],
   "source": [
    "%%writefile TextFile.txt\n",
    "Hello this is my text file\n",
    "More Text"
   ]
  },
  {
   "cell_type": "markdown",
   "metadata": {},
   "source": [
    "#### Read Text File - Basic"
   ]
  },
  {
   "cell_type": "code",
   "execution_count": 66,
   "metadata": {},
   "outputs": [
    {
     "name": "stdout",
     "output_type": "stream",
     "text": [
      "Hello this is my text file\n",
      "More Text\n",
      "Text Added\n",
      "['Hello this is my text file\\n', 'More Text\\n', 'Text Added']\n",
      "Hello this is my text file\n",
      "More Text\n",
      "Text AddedText Added\n"
     ]
    }
   ],
   "source": [
    "myfile = open('TextFile.txt')\n",
    "print(myfile.read())\n",
    "\n",
    "myfile.seek(0) # Reset the cursor\n",
    "\n",
    "print(myfile.readlines())\n",
    "\n",
    "# .close\n",
    "myfile.close()\n",
    "\n",
    "# Open File as writeable and add text\n",
    "myfile = open('TextFile.txt', 'a')\n",
    "myfile.write('Text Added')\n",
    "myfile.close()\n",
    "\n",
    "\n"
   ]
  },
  {
   "cell_type": "markdown",
   "metadata": {},
   "source": [
    "#### Read File - With Statement"
   ]
  },
  {
   "cell_type": "code",
   "execution_count": 72,
   "metadata": {},
   "outputs": [
    {
     "data": {
      "text/plain": [
       "'Hello this is my text file\\nMore Text\\nText AddedText Added'"
      ]
     },
     "execution_count": 72,
     "metadata": {},
     "output_type": "execute_result"
    }
   ],
   "source": [
    "with open('TextFile.txt') as text_file:\n",
    "    contents = text_file.read()\n",
    "contents"
   ]
  }
 ],
 "metadata": {
  "kernelspec": {
   "display_name": "Python 3",
   "language": "python",
   "name": "python3"
  },
  "language_info": {
   "codemirror_mode": {
    "name": "ipython",
    "version": 3
   },
   "file_extension": ".py",
   "mimetype": "text/x-python",
   "name": "python",
   "nbconvert_exporter": "python",
   "pygments_lexer": "ipython3",
   "version": "3.7.6"
  }
 },
 "nbformat": 4,
 "nbformat_minor": 4
}
