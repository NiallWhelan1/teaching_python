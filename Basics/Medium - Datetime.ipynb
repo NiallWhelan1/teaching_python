{
 "cells": [
  {
   "cell_type": "code",
   "execution_count": 4,
   "metadata": {},
   "outputs": [],
   "source": [
    "## Basic datetime "
   ]
  },
  {
   "cell_type": "code",
   "execution_count": 36,
   "metadata": {},
   "outputs": [],
   "source": [
    "import datetime"
   ]
  },
  {
   "cell_type": "markdown",
   "metadata": {},
   "source": [
    "### Time"
   ]
  },
  {
   "cell_type": "code",
   "execution_count": 74,
   "metadata": {},
   "outputs": [
    {
     "name": "stdout",
     "output_type": "stream",
     "text": [
      "datetime.time(hour,min,sec,micro-sec)\n",
      "10:20:30.122321\n",
      "\n",
      "------\n",
      "\n",
      "hour  : 10\n",
      "minute: 20\n",
      "second: 30\n",
      "microsecond: 122321\n",
      "tzinfo: None\n",
      "\n",
      "------\n",
      "\n",
      "Earliest  : 00:00:00\n",
      "Latest    : 23:59:59.999999\n",
      "Resolution: 0:00:00.000001\n"
     ]
    }
   ],
   "source": [
    "## Time\n",
    "print(\"datetime.time(hour,min,sec,micro-sec)\")\n",
    "\n",
    "t = datetime.time(10,20,30, 122321)\n",
    "print(t)\n",
    "\n",
    "print(\"\\n------\\n\")\n",
    "\n",
    "print('hour  :', t.hour)\n",
    "print('minute:', t.minute)\n",
    "print('second:', t.second)\n",
    "print('microsecond:', t.microsecond)\n",
    "print('tzinfo:', t.tzinfo)\n",
    "\n",
    "print(\"\\n------\\n\")\n",
    "\n",
    "print('Earliest  :', datetime.time.min)\n",
    "print('Latest    :', datetime.time.max)\n",
    "print('Resolution:', datetime.time.resolution)"
   ]
  },
  {
   "cell_type": "markdown",
   "metadata": {},
   "source": [
    "## Date"
   ]
  },
  {
   "cell_type": "code",
   "execution_count": 76,
   "metadata": {},
   "outputs": [
    {
     "name": "stdout",
     "output_type": "stream",
     "text": [
      "2020-03-28\n",
      "\n",
      "------\n",
      "\n",
      "ctime: Sat Mar 28 00:00:00 2020\n",
      "tuple: time.struct_time(tm_year=2020, tm_mon=3, tm_mday=28, tm_hour=0, tm_min=0, tm_sec=0, tm_wday=5, tm_yday=88, tm_isdst=-1)\n",
      "ordinal: 737512\n",
      "Year : 2020\n",
      "Month: 3\n",
      "Day  : 28\n",
      "2019-03-28\n",
      "\n",
      "-----\n",
      "\n",
      "Difference - 366 days, 0:00:00\n"
     ]
    }
   ],
   "source": [
    "today = datetime.date.today()\n",
    "\n",
    "print(today)\n",
    "#print(today.timetuple())\n",
    "\n",
    "print(\"\\n------\\n\")\n",
    "\n",
    "print('ctime:', today.ctime())\n",
    "print('tuple:', today.timetuple())\n",
    "print('ordinal:', today.toordinal())\n",
    "print('Year :', today.year)\n",
    "print('Month:', today.month)\n",
    "print('Day  :', today.day)\n",
    "\n",
    "print(today.replace(year = 2019))\n",
    "print('\\n-----\\n')\n",
    "print(f\"Difference - {today - today.replace(year = 2019)}\")"
   ]
  }
 ],
 "metadata": {
  "kernelspec": {
   "display_name": "Python 3",
   "language": "python",
   "name": "python3"
  },
  "language_info": {
   "codemirror_mode": {
    "name": "ipython",
    "version": 3
   },
   "file_extension": ".py",
   "mimetype": "text/x-python",
   "name": "python",
   "nbconvert_exporter": "python",
   "pygments_lexer": "ipython3",
   "version": "3.7.4"
  }
 },
 "nbformat": 4,
 "nbformat_minor": 2
}
