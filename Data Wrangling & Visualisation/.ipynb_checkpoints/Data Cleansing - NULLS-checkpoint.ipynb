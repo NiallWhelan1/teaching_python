{
 "cells": [
  {
   "cell_type": "markdown",
   "metadata": {},
   "source": [
    "## Removing NULLS (None, NaN)"
   ]
  },
  {
   "cell_type": "code",
   "execution_count": 1,
   "metadata": {},
   "outputs": [
    {
     "name": "stdout",
     "output_type": "stream",
     "text": [
      "      0\n",
      "0     a\n",
      "1     b\n",
      "2  None\n",
      "     0\n",
      "0  1.0\n",
      "1  2.0\n",
      "2  3.0\n",
      "3  NaN\n"
     ]
    }
   ],
   "source": [
    "import pandas as pd\n",
    "\n",
    "\n",
    "print(pd.DataFrame(['a','b',None])) ## Str = None\n",
    "print(pd.DataFrame([1,2,3,None])) ## Num = NaN"
   ]
  },
  {
   "cell_type": "markdown",
   "metadata": {},
   "source": [
    "#### .isnull()"
   ]
  },
  {
   "cell_type": "code",
   "execution_count": 45,
   "metadata": {},
   "outputs": [
    {
     "name": "stdout",
     "output_type": "stream",
     "text": [
      "      0    1\n",
      "0     a  1.0\n",
      "1     b  2.0\n",
      "2  None  NaN\n"
     ]
    },
    {
     "data": {
      "text/html": [
       "<div>\n",
       "<style scoped>\n",
       "    .dataframe tbody tr th:only-of-type {\n",
       "        vertical-align: middle;\n",
       "    }\n",
       "\n",
       "    .dataframe tbody tr th {\n",
       "        vertical-align: top;\n",
       "    }\n",
       "\n",
       "    .dataframe thead th {\n",
       "        text-align: right;\n",
       "    }\n",
       "</style>\n",
       "<table border=\"1\" class=\"dataframe\">\n",
       "  <thead>\n",
       "    <tr style=\"text-align: right;\">\n",
       "      <th></th>\n",
       "      <th>0</th>\n",
       "      <th>1</th>\n",
       "    </tr>\n",
       "  </thead>\n",
       "  <tbody>\n",
       "    <tr>\n",
       "      <td>0</td>\n",
       "      <td>False</td>\n",
       "      <td>False</td>\n",
       "    </tr>\n",
       "    <tr>\n",
       "      <td>1</td>\n",
       "      <td>False</td>\n",
       "      <td>False</td>\n",
       "    </tr>\n",
       "    <tr>\n",
       "      <td>2</td>\n",
       "      <td>True</td>\n",
       "      <td>True</td>\n",
       "    </tr>\n",
       "  </tbody>\n",
       "</table>\n",
       "</div>"
      ],
      "text/plain": [
       "       0      1\n",
       "0  False  False\n",
       "1  False  False\n",
       "2   True   True"
      ]
     },
     "execution_count": 45,
     "metadata": {},
     "output_type": "execute_result"
    }
   ],
   "source": [
    "## .isnull() works across both NaN and None\n",
    "print(pd.DataFrame([['a',1],['b',2],[None,None]]))\n",
    "\n",
    "pd.DataFrame([['a',1],['b',2],[None,None]]).isnull()"
   ]
  },
  {
   "cell_type": "markdown",
   "metadata": {},
   "source": [
    "#### .notnull()"
   ]
  },
  {
   "cell_type": "code",
   "execution_count": 49,
   "metadata": {
    "scrolled": true
   },
   "outputs": [
    {
     "name": "stdout",
     "output_type": "stream",
     "text": [
      "      0    1\n",
      "0     a  1.0\n",
      "1     b  2.0\n",
      "2  None  NaN\n"
     ]
    },
    {
     "data": {
      "text/html": [
       "<div>\n",
       "<style scoped>\n",
       "    .dataframe tbody tr th:only-of-type {\n",
       "        vertical-align: middle;\n",
       "    }\n",
       "\n",
       "    .dataframe tbody tr th {\n",
       "        vertical-align: top;\n",
       "    }\n",
       "\n",
       "    .dataframe thead th {\n",
       "        text-align: right;\n",
       "    }\n",
       "</style>\n",
       "<table border=\"1\" class=\"dataframe\">\n",
       "  <thead>\n",
       "    <tr style=\"text-align: right;\">\n",
       "      <th></th>\n",
       "      <th>0</th>\n",
       "      <th>1</th>\n",
       "    </tr>\n",
       "  </thead>\n",
       "  <tbody>\n",
       "    <tr>\n",
       "      <td>0</td>\n",
       "      <td>True</td>\n",
       "      <td>True</td>\n",
       "    </tr>\n",
       "    <tr>\n",
       "      <td>1</td>\n",
       "      <td>True</td>\n",
       "      <td>True</td>\n",
       "    </tr>\n",
       "    <tr>\n",
       "      <td>2</td>\n",
       "      <td>False</td>\n",
       "      <td>False</td>\n",
       "    </tr>\n",
       "  </tbody>\n",
       "</table>\n",
       "</div>"
      ],
      "text/plain": [
       "       0      1\n",
       "0   True   True\n",
       "1   True   True\n",
       "2  False  False"
      ]
     },
     "execution_count": 49,
     "metadata": {},
     "output_type": "execute_result"
    }
   ],
   "source": [
    "## .isnull() works across both NaN and None\n",
    "print(pd.DataFrame([['a',1],['b',2],[None,None]]))\n",
    "\n",
    "pd.DataFrame([['a',1],['b',2],[None,None]]).notnull()"
   ]
  },
  {
   "cell_type": "markdown",
   "metadata": {},
   "source": [
    "#### .dropna()"
   ]
  },
  {
   "cell_type": "code",
   "execution_count": 60,
   "metadata": {
    "scrolled": true
   },
   "outputs": [
    {
     "name": "stdout",
     "output_type": "stream",
     "text": [
      "      0    1  2\n",
      "0     a  1.0  z\n",
      "1     b  2.0  y\n",
      "2  None  NaN  z\n",
      "\n",
      "-----------\n",
      "\n",
      "   0    1  2\n",
      "0  a  1.0  z\n",
      "1  b  2.0  y\n",
      "\n",
      "-----------\n",
      "\n",
      "   2\n",
      "0  z\n",
      "1  y\n",
      "2  z\n",
      "\n",
      "-----------\n",
      "\n",
      "      0    1  2\n",
      "0     a  1.0  z\n",
      "1     b  2.0  y\n",
      "2  None  NaN  z\n"
     ]
    }
   ],
   "source": [
    "print(pd.DataFrame([['a',1,'z'],['b',2,'y'],[None,None,'z']]))\n",
    "\n",
    "print('\\n-----------\\n')\n",
    "print(pd.DataFrame([['a',1,'z'],['b',2,'y'],[None,None,'z']]).dropna()) ## Axis = 0, row\n",
    "\n",
    "print('\\n-----------\\n')\n",
    "print(pd.DataFrame([['a',1,'z'],['b',2,'y'],[None,None,'z']]).dropna(axis=1)) ## Axis = 1 , col\n",
    "\n",
    "print('\\n-----------\\n')\n",
    "print(pd.DataFrame([['a',1,'z'],['b',2,'y'],[None,None,'z']]).dropna(how = 'all'))"
   ]
  },
  {
   "cell_type": "markdown",
   "metadata": {},
   "source": [
    "#### .fllna()"
   ]
  },
  {
   "cell_type": "code",
   "execution_count": 80,
   "metadata": {},
   "outputs": [
    {
     "name": "stdout",
     "output_type": "stream",
     "text": [
      "      0    1  2\n",
      "0     a  1.0  z\n",
      "1     b  2.0  y\n",
      "2  None  NaN  z\n",
      "\n",
      "-----------\n",
      "\n",
      "            0           1  2\n",
      "0           a           1  z\n",
      "1           b           2  y\n",
      "2  NULL Value  NULL Value  z\n",
      "\n",
      "-----------\n",
      "\n",
      "   0    1  2\n",
      "0  a  1.0  z\n",
      "1  b  2.0  y\n",
      "2  0  0.0  z\n",
      "\n",
      "-----------\n",
      "\n",
      "\n",
      "-----------\n",
      "\n",
      "   0    1  2\n",
      "0  a  1.0  z\n",
      "1  b  2.0  y\n",
      "2  b  2.0  z\n",
      "\n",
      "-----------\n",
      "\n",
      "   0  1  2\n",
      "0  a  1  z\n",
      "1  b  2  y\n",
      "2  z  z  z\n"
     ]
    }
   ],
   "source": [
    "df =pd.DataFrame([['a',1,'z'],['b',2,'y'],[None,None,'z']])\n",
    "print(df)\n",
    "print('\\n-----------\\n')\n",
    "\n",
    "print(df.fillna('NULL Value'))\n",
    "print('\\n-----------\\n')\n",
    "\n",
    "print(df.fillna(0)),\n",
    "print('\\n-----------\\n')\n",
    "\n",
    "print('\\n-----------\\n')\n",
    "print(df.fillna(method = 'ffill', axis = 0)) # Forward Fill - Take the value from the row beforehand (Opposite of backfill)\n",
    "\n",
    "print('\\n-----------\\n')\n",
    "print(df.fillna(method = 'bfill', axis = 1)) ## Collumn backfill"
   ]
  }
 ],
 "metadata": {
  "kernelspec": {
   "display_name": "Python 3",
   "language": "python",
   "name": "python3"
  },
  "language_info": {
   "codemirror_mode": {
    "name": "ipython",
    "version": 3
   },
   "file_extension": ".py",
   "mimetype": "text/x-python",
   "name": "python",
   "nbconvert_exporter": "python",
   "pygments_lexer": "ipython3",
   "version": "3.7.4"
  }
 },
 "nbformat": 4,
 "nbformat_minor": 2
}
